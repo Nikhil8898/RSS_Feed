{
 "cells": [
  {
   "cell_type": "code",
   "execution_count": null,
   "id": "65aa57a5",
   "metadata": {},
   "outputs": [],
   "source": [
    "pip install pymongo"
   ]
  },
  {
   "cell_type": "code",
   "execution_count": null,
   "id": "469a6dae",
   "metadata": {},
   "outputs": [],
   "source": [
    "python -m pip install -U pymongo"
   ]
  },
  {
   "cell_type": "code",
   "execution_count": 1,
   "id": "d8c26066",
   "metadata": {},
   "outputs": [],
   "source": [
    "import pymongo as pym\n",
    "import pandas as pd\n",
    "import os\n",
    "import csv\n",
    "import json\n",
    "\n",
    "import requests\n",
    "from bs4 import BeautifulSoup\n",
    "#from bs4 import BeautifulSoup as bs\n",
    "import urllib.request, urllib.parse, urllib.error"
   ]
  },
  {
   "cell_type": "code",
   "execution_count": 2,
   "id": "aa73e1b5",
   "metadata": {},
   "outputs": [],
   "source": [
    "'''\n",
    "def os_search(file):\n",
    "    u=[]\n",
    "    for p,n,f in os.walk(os.getcwd()):\n",
    "        for a in f:\n",
    "            a=str(a)\n",
    "            if a.endswith(file):\n",
    "                t=pd.read_csv(p+\"/\"+file)\n",
    "                u.append(p+\"/\"+a)\n",
    "    return t,u\n",
    "'''\n",
    "def os_search(file):\n",
    "    u=[]\n",
    "    for p,n,f in os.walk(os.getcwd()):\n",
    "        \n",
    "        for a in f:\n",
    "            a = str(a)\n",
    "            if a.endswith(file): # can be (.csv) or a file like I did and search \n",
    "#                 print(a)\n",
    "#                 print(p)\n",
    "                t=pd.read_csv(p+'/'+file)\n",
    "                u.append(p+'/'+a)\n",
    "    return t,u"
   ]
  },
  {
   "cell_type": "code",
   "execution_count": 3,
   "id": "94498ee4",
   "metadata": {},
   "outputs": [
    {
     "data": {
      "text/html": [
       "<div>\n",
       "<style scoped>\n",
       "    .dataframe tbody tr th:only-of-type {\n",
       "        vertical-align: middle;\n",
       "    }\n",
       "\n",
       "    .dataframe tbody tr th {\n",
       "        vertical-align: top;\n",
       "    }\n",
       "\n",
       "    .dataframe thead th {\n",
       "        text-align: right;\n",
       "    }\n",
       "</style>\n",
       "<table border=\"1\" class=\"dataframe\">\n",
       "  <thead>\n",
       "    <tr style=\"text-align: right;\">\n",
       "      <th></th>\n",
       "      <th>Title</th>\n",
       "      <th>Link</th>\n",
       "      <th>Description</th>\n",
       "      <th>PubDate</th>\n",
       "      <th>Category</th>\n",
       "    </tr>\n",
       "  </thead>\n",
       "  <tbody>\n",
       "    <tr>\n",
       "      <th>0</th>\n",
       "      <td>Late Sen. Harry Reid to lie in state in US Ca...</td>\n",
       "      <td>https://abcnews.go.com/Politics/wireStory/late...</td>\n",
       "      <td>The late former Senate majority leader from Ne...</td>\n",
       "      <td>&lt;pubDate&gt;Sun, 02 Jan 2022 21:56:25 -0500&lt;/pubD...</td>\n",
       "      <td>Politics</td>\n",
       "    </tr>\n",
       "    <tr>\n",
       "      <th>1</th>\n",
       "      <td>Powerball jumps to over $522M following anoth...</td>\n",
       "      <td>https://abcnews.go.com/US/powerball-jumps-522m...</td>\n",
       "      <td>Another week without a Powerball winner has ra...</td>\n",
       "      <td>&lt;pubDate&gt;Sun, 02 Jan 2022 11:47:22 -0500&lt;/pubD...</td>\n",
       "      <td>US</td>\n",
       "    </tr>\n",
       "    <tr>\n",
       "      <th>2</th>\n",
       "      <td>2 missing in huge Colorado fire as investigat...</td>\n",
       "      <td>https://abcnews.go.com/US/wireStory/missing-hu...</td>\n",
       "      <td>Search teams looked for two missing people in ...</td>\n",
       "      <td>&lt;pubDate&gt;Mon, 03 Jan 2022 03:15:52 -0500&lt;/pubD...</td>\n",
       "      <td>US</td>\n",
       "    </tr>\n",
       "    <tr>\n",
       "      <th>3</th>\n",
       "      <td>Seoul: North Korea defector likely made rare ...</td>\n",
       "      <td>https://abcnews.go.com/International/wireStory...</td>\n",
       "      <td>South Korea says a person who crossed the bord...</td>\n",
       "      <td>&lt;pubDate&gt;Mon, 03 Jan 2022 04:02:17 -0500&lt;/pubD...</td>\n",
       "      <td>International</td>\n",
       "    </tr>\n",
       "    <tr>\n",
       "      <th>4</th>\n",
       "      <td>Officials probe cause of massive Colorado fir...</td>\n",
       "      <td>https://abcnews.go.com/US/wireStory/officials-...</td>\n",
       "      <td>Investigators are still trying to determine ho...</td>\n",
       "      <td>&lt;pubDate&gt;Sun, 02 Jan 2022 20:15:45 -0500&lt;/pubD...</td>\n",
       "      <td>US</td>\n",
       "    </tr>\n",
       "  </tbody>\n",
       "</table>\n",
       "</div>"
      ],
      "text/plain": [
       "                                               Title  \\\n",
       "0   Late Sen. Harry Reid to lie in state in US Ca...   \n",
       "1   Powerball jumps to over $522M following anoth...   \n",
       "2   2 missing in huge Colorado fire as investigat...   \n",
       "3   Seoul: North Korea defector likely made rare ...   \n",
       "4   Officials probe cause of massive Colorado fir...   \n",
       "\n",
       "                                                Link  \\\n",
       "0  https://abcnews.go.com/Politics/wireStory/late...   \n",
       "1  https://abcnews.go.com/US/powerball-jumps-522m...   \n",
       "2  https://abcnews.go.com/US/wireStory/missing-hu...   \n",
       "3  https://abcnews.go.com/International/wireStory...   \n",
       "4  https://abcnews.go.com/US/wireStory/officials-...   \n",
       "\n",
       "                                         Description  \\\n",
       "0  The late former Senate majority leader from Ne...   \n",
       "1  Another week without a Powerball winner has ra...   \n",
       "2  Search teams looked for two missing people in ...   \n",
       "3  South Korea says a person who crossed the bord...   \n",
       "4  Investigators are still trying to determine ho...   \n",
       "\n",
       "                                             PubDate       Category  \n",
       "0  <pubDate>Sun, 02 Jan 2022 21:56:25 -0500</pubD...       Politics  \n",
       "1  <pubDate>Sun, 02 Jan 2022 11:47:22 -0500</pubD...             US  \n",
       "2  <pubDate>Mon, 03 Jan 2022 03:15:52 -0500</pubD...             US  \n",
       "3  <pubDate>Mon, 03 Jan 2022 04:02:17 -0500</pubD...  International  \n",
       "4  <pubDate>Sun, 02 Jan 2022 20:15:45 -0500</pubD...             US  "
      ]
     },
     "execution_count": 3,
     "metadata": {},
     "output_type": "execute_result"
    }
   ],
   "source": [
    "rss_feed = os_search(\"out1.csv\")[0]\n",
    "rss_feed = rss_feed.iloc[:,1:]\n",
    "rss_feed.head()"
   ]
  },
  {
   "cell_type": "code",
   "execution_count": 4,
   "id": "95141bdb",
   "metadata": {},
   "outputs": [],
   "source": [
    "rss_feed.to_csv('out2.csv')"
   ]
  },
  {
   "cell_type": "code",
   "execution_count": null,
   "id": "9d7751f4",
   "metadata": {},
   "outputs": [],
   "source": []
  },
  {
   "cell_type": "code",
   "execution_count": 5,
   "id": "c7ec19c9",
   "metadata": {},
   "outputs": [],
   "source": [
    "#Making Connection with mongodb\n",
    "client = pym.MongoClient('mongodb://localhost:27017/')\n",
    "#creating db\n",
    "db = client[\"rss_feed_1\"]\n",
    "#creating tables\n",
    "rss_feeds_table = db[\"feed_info_1\"]"
   ]
  },
  {
   "cell_type": "code",
   "execution_count": 6,
   "id": "e2e3f946",
   "metadata": {},
   "outputs": [
    {
     "name": "stderr",
     "output_type": "stream",
     "text": [
      "C:\\Users\\Admin\\anaconda3\\lib\\site-packages\\pandas\\core\\frame.py:1549: FutureWarning: Using short name for 'orient' is deprecated. Only the options: ('dict', list, 'series', 'split', 'records', 'index') will be used in a future version. Use one of the above to silence this warning.\n",
      "  warnings.warn(\n"
     ]
    }
   ],
   "source": [
    "\n",
    "\n",
    "# Create Dict() to send to MongoDB\n",
    "rss_feed_dict = rss_feed.to_dict('record')\n",
    "#str(rss_feed_dict)\n",
    "#rss_feed_dict[:2]\n",
    "\n"
   ]
  },
  {
   "cell_type": "code",
   "execution_count": 7,
   "id": "571a1150",
   "metadata": {},
   "outputs": [
    {
     "data": {
      "text/plain": [
       "[{'Title': ' Late Sen. Harry Reid to lie in state in US Capitol Rotunda',\n",
       "  'Link': 'https://abcnews.go.com/Politics/wireStory/late-sen-harry-reid-lie-state-us-capitol-82046860',\n",
       "  'Description': 'The late former Senate majority leader from Nevada, Harry Reid, will lie in state in the U.S. Capitol Rotunda next week',\n",
       "  'PubDate': '<pubDate>Sun, 02 Jan 2022 21:56:25 -0500</pubDate>',\n",
       "  'Category': 'Politics'},\n",
       " {'Title': ' Powerball jumps to over $522M following another winless drawing',\n",
       "  'Link': 'https://abcnews.go.com/US/powerball-jumps-522m-winless-drawing/story?id=82038522',\n",
       "  'Description': \"Another week without a Powerball winner has raised the lottery's jackpot to over $522 million.\",\n",
       "  'PubDate': '<pubDate>Sun, 02 Jan 2022 11:47:22 -0500</pubDate>',\n",
       "  'Category': 'US'},\n",
       " {'Title': ' 2 missing in huge Colorado fire as investigation continues',\n",
       "  'Link': 'https://abcnews.go.com/US/wireStory/missing-huge-colorado-fire-investigation-continues-82048114',\n",
       "  'Description': 'Search teams looked for two missing people in the smoldering debris from a massive Colorado wildfire while people who escaped the flames sorted through what was left',\n",
       "  'PubDate': '<pubDate>Mon, 03 Jan 2022 03:15:52 -0500</pubDate>',\n",
       "  'Category': 'US'},\n",
       " {'Title': ' Seoul: North Korea defector likely made rare border crossing',\n",
       "  'Link': 'https://abcnews.go.com/International/wireStory/seoul-north-korea-defector-made-rare-border-crossing-82048522',\n",
       "  'Description': 'South Korea says a person who crossed the border into North Korea on New Year&rsquo;s Day was likely a defector who had slipped through the same heavily fortified frontier in the other direction in late 2020',\n",
       "  'PubDate': '<pubDate>Mon, 03 Jan 2022 04:02:17 -0500</pubDate>',\n",
       "  'Category': 'International'},\n",
       " {'Title': ' Officials probe cause of massive Colorado fire; 3 missing',\n",
       "  'Link': 'https://abcnews.go.com/US/wireStory/officials-probe-massive-colorado-fire-missing-82036916',\n",
       "  'Description': 'Investigators are still trying to determine how the fire began.',\n",
       "  'PubDate': '<pubDate>Sun, 02 Jan 2022 20:15:45 -0500</pubDate>',\n",
       "  'Category': 'US'},\n",
       " {'Title': ' AT&T, Verizon reject U.S. request to delay 5G wireless plans',\n",
       "  'Link': 'https://abcnews.go.com/Technology/wireStory/att-verizon-reject-us-request-delay-5g-wireless-82047484',\n",
       "  'Description': 'Verizon and AT&amp;T have rejected a request by the U.S. government to delay the rollout of next-generation wireless technology',\n",
       "  'PubDate': '<pubDate>Sun, 02 Jan 2022 23:17:23 -0500</pubDate>',\n",
       "  'Category': 'Technology'},\n",
       " {'Title': ' Last parent of a child killed in 1963 church bombing dies',\n",
       "  'Link': 'https://abcnews.go.com/Politics/wireStory/parent-child-killed-1963-church-bombing-dies-82044666',\n",
       "  'Description': 'Four Black girls were killed in the 1963 Alabama church bombing.',\n",
       "  'PubDate': '<pubDate>Sun, 02 Jan 2022 21:26:47 -0500</pubDate>',\n",
       "  'Category': 'Politics'},\n",
       " {'Title': ' Tesla says it delivered record 936K vehicles in 2021, up 87%',\n",
       "  'Link': 'https://abcnews.go.com/Technology/wireStory/tesla-delivered-record-936k-vehicles-2021-87-82044733',\n",
       "  'Description': 'Tesla says it delivered a record 936,000 vehicles last year, up 87% from 2020.',\n",
       "  'PubDate': '<pubDate>Sun, 02 Jan 2022 19:38:16 -0500</pubDate>',\n",
       "  'Category': 'Technology'},\n",
       " {'Title': ' Drew Peterson to ask judge to toss out murder conviction',\n",
       "  'Link': 'https://abcnews.go.com/US/wireStory/drew-peterson-judge-toss-murder-conviction-82040050',\n",
       "  'Description': 'The former cop gets to fight his conviction in the death of his third wife.',\n",
       "  'PubDate': '<pubDate>Sun, 02 Jan 2022 20:43:01 -0500</pubDate>',\n",
       "  'Category': 'US'},\n",
       " {'Title': ' Hong Kong news outlet to close amid crackdown on dissent',\n",
       "  'Link': 'https://abcnews.go.com/International/wireStory/hong-kong-news-outlet-close-amid-crackdown-dissent-82039245',\n",
       "  'Description': 'A Hong Kong online news site says it will cease operations in light of deteriorating press freedoms, days after police raided and arrested seven people for sedition at a separate pro-democracy news outlet',\n",
       "  'PubDate': '<pubDate>Mon, 03 Jan 2022 01:19:28 -0500</pubDate>',\n",
       "  'Category': 'International'},\n",
       " {'Title': ' Judge blocks COVID vaccine mandate for Head Start program',\n",
       "  'Link': 'https://abcnews.go.com/Health/wireStory/judge-blocks-covid-vaccine-mandate-head-start-program-82036778',\n",
       "  'Description': 'Teachers in the Head Start early education program do not have to be vaccinated.',\n",
       "  'PubDate': '<pubDate>Sun, 02 Jan 2022 10:38:00 -0500</pubDate>',\n",
       "  'Category': 'Health'},\n",
       " {'Title': ' Overnight storms bring damage to parts of US South',\n",
       "  'Link': 'https://abcnews.go.com/US/wireStory/overnight-storms-bring-damage-parts-us-south-82037703',\n",
       "  'Description': 'A line of severe storms damaged homes, knocked out power and downed trees.',\n",
       "  'PubDate': '<pubDate>Sun, 02 Jan 2022 17:32:01 -0500</pubDate>',\n",
       "  'Category': 'US'},\n",
       " {'Title': \" Congressman recalls Jan. 6 attack: 'I figured, Well, this is it'\",\n",
       "  'Link': 'https://abcnews.go.com/Politics/rep-dan-kildee-recounts-traumatic-jan-attack-year/story?id=82041154',\n",
       "  'Description': 'Michigan Rep. Dan Kildee gives a look at the attack on the U.S. Capitol from inside the building as the insurrection unfolded.',\n",
       "  'PubDate': '<pubDate>Sun, 02 Jan 2022 19:15:27 -0500</pubDate>',\n",
       "  'Category': 'Politics'},\n",
       " {'Title': 'LIVE:  ABC News Live',\n",
       "  'Link': 'https://abcnews.go.com/Live/video/abcnews-live-41463246',\n",
       "  'Description': '24/7 coverage of breaking news and live events\\n',\n",
       "  'PubDate': '<pubDate>Fri, 31 Dec 2021 15:04:20 -0500</pubDate>',\n",
       "  'Category': 'Live'},\n",
       " {'Title': ' Some pet owners in city robbed, held at gunpoint for their dogs',\n",
       "  'Link': 'https://abcnews.go.com/US/los-angeles-sees-rise-french-bulldog-thefts/story?id=82038523',\n",
       "  'Description': 'A string of thefts involving owners of French bulldogs has taken place in Los Angeles.',\n",
       "  'PubDate': '<pubDate>Sun, 02 Jan 2022 17:03:33 -0500</pubDate>',\n",
       "  'Category': 'US'},\n",
       " {'Title': 'WATCH:  Ice crystals form in bubble',\n",
       "  'Link': 'https://abcnews.go.com/US/video/ice-crystals-form-bubble-82041789',\n",
       "  'Description': 'Bitter temperatures in western Minnesota turned bubbles on the rim of a jar into a snow globe of ice crystals.',\n",
       "  'PubDate': '<pubDate>Sun, 02 Jan 2022 15:10:09 -0500</pubDate>',\n",
       "  'Category': 'US'},\n",
       " {'Title': 'WATCH:  Coast Guard rescues 2 missing hikers',\n",
       "  'Link': 'https://abcnews.go.com/US/video/coast-guard-rescues-missing-hikers-82041843',\n",
       "  'Description': 'Two hikers who went missing around Dec. 23 were found safe after hiking on Swastika Mountain in Oregon.',\n",
       "  'PubDate': '<pubDate>Sun, 02 Jan 2022 20:51:24 -0500</pubDate>',\n",
       "  'Category': 'US'},\n",
       " {'Title': \"WATCH:  Major fire tears through South Africa's Parliament building\",\n",
       "  'Link': 'https://abcnews.go.com/International/video/major-fire-tears-south-africas-parliament-building-82041897',\n",
       "  'Description': \"A major fire ripped through South Africa's Parliament complex, gutting offices and causing some ceilings to collapse. No injuries have been reported.\",\n",
       "  'PubDate': '<pubDate>Sun, 02 Jan 2022 15:13:35 -0500</pubDate>',\n",
       "  'Category': 'International'},\n",
       " {'Title': 'WATCH:  Countdown to 2022 from all over the world',\n",
       "  'Link': 'https://abcnews.go.com/International/video/countdown-2022-world-82029393',\n",
       "  'Description': \"Highlights from New Year's Eve celebrations around the globe.\",\n",
       "  'PubDate': '<pubDate>Sat, 01 Jan 2022 16:32:36 -0500</pubDate>',\n",
       "  'Category': 'International'},\n",
       " {'Title': \"WATCH:  Behind the scenes look of the New Year's ball drop\",\n",
       "  'Link': 'https://abcnews.go.com/GMA/Culture/video/scenes-years-ball-drop-82017513',\n",
       "  'Description': \"ABC News' Rob Marciano previews the iconic New Year's Eve ball in Times Square.\",\n",
       "  'PubDate': '<pubDate>Fri, 31 Dec 2021 08:45:47 -0500</pubDate>',\n",
       "  'Category': 'GMA'},\n",
       " {'Title': 'WATCH:  Airline passenger captures bird?�?s-eye view of Colorado wildfire',\n",
       "  'Link': 'https://abcnews.go.com/US/video/airline-passenger-captures-birds-eye-view-colorado-wildfire-82019929',\n",
       "  'Description': 'An airline passenger aboard a flight from Denver captured a bird?�?s-eye view of the wildfire burning in Boulder County, Colorado.',\n",
       "  'PubDate': '<pubDate>Fri, 31 Dec 2021 12:50:26 -0500</pubDate>',\n",
       "  'Category': 'US'},\n",
       " {'Title': 'WATCH:  Rare Siberian tiger, cubs caught on camera',\n",
       "  'Link': 'https://abcnews.go.com/International/video/rare-siberian-tiger-cubs-caught-camera-82020142',\n",
       "  'Description': 'Hidden cameras in a Russian wildlife center caught a Siberian tigress, dubbed Svetlaya, with her two newborn cubs, only the third time they have been filmed.',\n",
       "  'PubDate': '<pubDate>Fri, 31 Dec 2021 12:50:01 -0500</pubDate>',\n",
       "  'Category': 'International'},\n",
       " {'Title': 'WATCH:  Wildfire burns through Colorado family?�?s backyard',\n",
       "  'Link': 'https://abcnews.go.com/US/video/wildfire-burns-colorado-familys-backyard-82012710',\n",
       "  'Description': 'A family member shared the video on Twitter, writing, ?�?I don?�?t know if my home is still there.?�?',\n",
       "  'PubDate': '<pubDate>Thu, 30 Dec 2021 21:23:54 -0500</pubDate>',\n",
       "  'Category': 'US'},\n",
       " {'Title': \"WATCH:  Confetti tested ahead of New Year's Eve celebration in Times Square\",\n",
       "  'Link': 'https://abcnews.go.com/US/video/confetti-tested-ahead-years-eve-celebration-times-square-82009230',\n",
       "  'Description': \"The annual confetti test was held at the Hard Rock Cafe in Times Square in preparation for the release of some 1.5 tons of the colorful paper at midnight on New Year's Eve.\",\n",
       "  'PubDate': '<pubDate>Thu, 30 Dec 2021 17:12:11 -0500</pubDate>',\n",
       "  'Category': 'US'},\n",
       " {'Title': 'WATCH:  Luggage in limbo',\n",
       "  'Link': 'https://abcnews.go.com/US/video/luggage-limbo-82003432',\n",
       "  'Description': 'Piles of bags are waiting to be reunited with their owners at airports after winter weather and staffing shortages hit air travel.',\n",
       "  'PubDate': '<pubDate>Thu, 30 Dec 2021 11:35:44 -0500</pubDate>',\n",
       "  'Category': 'US'}]"
      ]
     },
     "execution_count": 7,
     "metadata": {},
     "output_type": "execute_result"
    }
   ],
   "source": [
    "rss_feed_dict"
   ]
  },
  {
   "cell_type": "code",
   "execution_count": null,
   "id": "651b2ec1",
   "metadata": {},
   "outputs": [],
   "source": []
  },
  {
   "cell_type": "code",
   "execution_count": 8,
   "id": "4c89d71a",
   "metadata": {},
   "outputs": [
    {
     "data": {
      "text/plain": [
       "<pymongo.results.InsertManyResult at 0x1da24812a40>"
      ]
     },
     "execution_count": 8,
     "metadata": {},
     "output_type": "execute_result"
    }
   ],
   "source": [
    "rss_feeds_table.insert_many(rss_feed_dict)"
   ]
  },
  {
   "cell_type": "code",
   "execution_count": null,
   "id": "b5f7be73",
   "metadata": {},
   "outputs": [],
   "source": []
  },
  {
   "cell_type": "code",
   "execution_count": null,
   "id": "dd798681",
   "metadata": {},
   "outputs": [],
   "source": []
  },
  {
   "cell_type": "code",
   "execution_count": null,
   "id": "77853bbc",
   "metadata": {},
   "outputs": [],
   "source": []
  },
  {
   "cell_type": "code",
   "execution_count": null,
   "id": "c1c3aeee",
   "metadata": {},
   "outputs": [],
   "source": [
    "\n"
   ]
  },
  {
   "cell_type": "code",
   "execution_count": null,
   "id": "9ab26dc2",
   "metadata": {},
   "outputs": [],
   "source": [
    "\n"
   ]
  },
  {
   "cell_type": "code",
   "execution_count": null,
   "id": "e3c70da0",
   "metadata": {},
   "outputs": [],
   "source": [
    "\n"
   ]
  },
  {
   "cell_type": "code",
   "execution_count": null,
   "id": "c03b3ab8",
   "metadata": {},
   "outputs": [],
   "source": []
  },
  {
   "cell_type": "code",
   "execution_count": null,
   "id": "192467e5",
   "metadata": {},
   "outputs": [],
   "source": [
    "\n"
   ]
  },
  {
   "cell_type": "code",
   "execution_count": null,
   "id": "6597a5bb",
   "metadata": {},
   "outputs": [],
   "source": []
  },
  {
   "cell_type": "code",
   "execution_count": null,
   "id": "dc0db8e9",
   "metadata": {},
   "outputs": [],
   "source": [
    "\n"
   ]
  },
  {
   "cell_type": "code",
   "execution_count": null,
   "id": "2dca5f67",
   "metadata": {},
   "outputs": [],
   "source": []
  },
  {
   "cell_type": "code",
   "execution_count": null,
   "id": "ab1050ba",
   "metadata": {},
   "outputs": [],
   "source": [
    "\n"
   ]
  },
  {
   "cell_type": "code",
   "execution_count": null,
   "id": "38a64b83",
   "metadata": {},
   "outputs": [],
   "source": [
    "\n"
   ]
  },
  {
   "cell_type": "code",
   "execution_count": null,
   "id": "5879226b",
   "metadata": {},
   "outputs": [],
   "source": []
  },
  {
   "cell_type": "code",
   "execution_count": null,
   "id": "c7927a3f",
   "metadata": {},
   "outputs": [],
   "source": []
  }
 ],
 "metadata": {
  "kernelspec": {
   "display_name": "Python 3",
   "language": "python",
   "name": "python3"
  },
  "language_info": {
   "codemirror_mode": {
    "name": "ipython",
    "version": 3
   },
   "file_extension": ".py",
   "mimetype": "text/x-python",
   "name": "python",
   "nbconvert_exporter": "python",
   "pygments_lexer": "ipython3",
   "version": "3.8.8"
  }
 },
 "nbformat": 4,
 "nbformat_minor": 5
}
