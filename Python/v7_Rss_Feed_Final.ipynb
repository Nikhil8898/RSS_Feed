{
 "cells": [
  {
   "cell_type": "code",
   "execution_count": 1,
   "id": "326b18b6",
   "metadata": {},
   "outputs": [],
   "source": [
    "import pymongo as pym\n",
    "import pandas as pd\n",
    "import requests\n",
    "import nltk\n",
    "from bs4 import BeautifulSoup\n",
    "#from bs4 import BeautifulSoup as bs\n",
    "import urllib.request, urllib.parse, urllib.error\n",
    "from newspaper import Article \n",
    "import schedule\n",
    "import time"
   ]
  },
  {
   "cell_type": "code",
   "execution_count": 6,
   "id": "5a8b736f",
   "metadata": {
    "scrolled": false
   },
   "outputs": [
    {
     "data": {
      "text/plain": [
       "'#Scheduling every 1 hr \\nschedule.every(4).seconds.do(rss_feed_schedule)\\n#schedule.every().hour.do(rss_feed_schedule)\\nwhile True:\\n    schedule.run_pending()\\n    #print(\"Data\")\\n    time.sleep(1)\\n    #print(\"Added\")'"
      ]
     },
     "execution_count": 6,
     "metadata": {},
     "output_type": "execute_result"
    }
   ],
   "source": [
    "def rss_feed_schedule():\n",
    "    url=[\"https://www.coindesk.com/arc/outboundfeeds/rss/?outputType=xml\",\"https://blockchain.news/RSS/\",\"https://news.bitcoin.com/feed/\"]\n",
    "    #Making Connection with mongodb\n",
    "    client = pym.MongoClient('mongodb://localhost:27017/')\n",
    "        #creating db\n",
    "    db = client[\"Rss_Feed\"]\n",
    "        #creating tables\n",
    "    rss_feeds_table = db[\"Rss_Feed_Info\"]\n",
    "    for u in url:\n",
    "      \n",
    "\n",
    "        resp=requests.get(u)\n",
    "        #soup = bs(resp.text, 'html.parser')\n",
    "        soup=BeautifulSoup(resp.content,features='xml')\n",
    "        news = []\n",
    "        items=soup.findAll('item')\n",
    "        #nltk.download('punkt')\n",
    "        item = iter(items)\n",
    "        for item in items:\n",
    "            news_item={}\n",
    "            #\"PubDate\":item.pubDate.text,\n",
    "            #Check if there is document with PubDate and Title specified\n",
    "            if db.Rss_Feed_Info.find_one({\"Title\":item.title.text}) or db.Rss_Feed_Info.find_one({\"Title\":None}):\n",
    "                if db.Rss_Feed_Info.find_one({\"PubDate\":item.pubDate.text}) or db.Rss_Feed_Info.find_one({\"PubDate\":None}):\n",
    "                    #print(\"Data present\")\n",
    "                    #If The document with specified PubDate and Title is present the news_item store null values\n",
    "                    news_item['Title']=None\n",
    "                    news_item['Link']=None\n",
    "                    news_item['Description']=None\n",
    "                    news_item['PubDate']=None\n",
    "                    #news_item['Category']=None\n",
    "                    news_item['Keyword']=None\n",
    "                    #next(item)\n",
    "            else:  \n",
    "                #If The document with specified PubDate and Title is not present news_item stores the values\n",
    "                news_item['Title']=item.title.text\n",
    "                news_item['Link']=item.link.text\n",
    "                news_item['Description']=item.description.text\n",
    "                news_item['PubDate']=item.pubDate.text\n",
    "                #news_item['Category']=item.category.text\n",
    "                a = item.link.text\n",
    "                article = Article(a)\n",
    "                article.download()\n",
    "                article.parse() \n",
    "                article.nlp()\n",
    "                news_item['Keyword']=article.keywords\n",
    "            news.append(news_item)\n",
    "\n",
    "        df = pd.DataFrame(news)\n",
    "        #df.head(26)\n",
    "        \n",
    "\n",
    "        # Create Dict() to send to MongoDB\n",
    "        rss_feed_dict = df.to_dict('record')\n",
    "        rss_feeds_table.insert_many(rss_feed_dict)\n",
    "\n",
    "        #Removing Null Values\n",
    "        db.Rss_Feed_Info.delete_many({ \"Title\": None , \"Link\" : None , \"Description\": None, \"PubDate\": None})\n",
    "    #db.Rss_Feed_Info.find({},{\"PubDate\":-1}).sort(\"PubDate\",-1)\n",
    "        \n",
    "\n",
    "#Scheduling every 1 hr \n",
    "schedule.every(4).seconds.do(rss_feed_schedule)\n",
    "#schedule.every().hour.do(rss_feed_schedule)\n",
    "while True:\n",
    "    schedule.run_pending()\n",
    "    #print(\"Data\")\n",
    "    time.sleep(1)\n",
    "    #print(\"Added\")\n"
   ]
  },
  {
   "cell_type": "code",
   "execution_count": null,
   "id": "f13f6810",
   "metadata": {},
   "outputs": [],
   "source": [
    "df.head(25)"
   ]
  },
  {
   "cell_type": "code",
   "execution_count": 7,
   "id": "adc9fed4",
   "metadata": {},
   "outputs": [],
   "source": [
    "rss_feed_schedule()\n"
   ]
  },
  {
   "cell_type": "code",
   "execution_count": null,
   "id": "da0db7b8",
   "metadata": {},
   "outputs": [],
   "source": []
  }
 ],
 "metadata": {
  "kernelspec": {
   "display_name": "Python 3",
   "language": "python",
   "name": "python3"
  },
  "language_info": {
   "codemirror_mode": {
    "name": "ipython",
    "version": 3
   },
   "file_extension": ".py",
   "mimetype": "text/x-python",
   "name": "python",
   "nbconvert_exporter": "python",
   "pygments_lexer": "ipython3",
   "version": "3.9.5"
  }
 },
 "nbformat": 4,
 "nbformat_minor": 5
}
