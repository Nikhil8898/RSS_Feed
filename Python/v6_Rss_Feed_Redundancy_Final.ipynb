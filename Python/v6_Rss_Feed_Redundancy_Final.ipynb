{
 "cells": [
  {
   "cell_type": "code",
   "execution_count": 1,
   "id": "49d4e8e5",
   "metadata": {},
   "outputs": [],
   "source": [
    "import pymongo as pym\n",
    "import pandas as pd\n",
    "import requests\n",
    "import nltk\n",
    "from bs4 import BeautifulSoup\n",
    "#from bs4 import BeautifulSoup as bs\n",
    "import urllib.request, urllib.parse, urllib.error\n",
    "from newspaper import Article "
   ]
  },
  {
   "cell_type": "code",
   "execution_count": 4,
   "id": "e8ad18b4",
   "metadata": {},
   "outputs": [],
   "source": [
    "url=[\"https://www.coindesk.com/arc/outboundfeeds/rss/?outputType=xml\",\"https://blockchain.news/RSS/\",\"https://news.bitcoin.com/feed/\"]"
   ]
  },
  {
   "cell_type": "code",
   "execution_count": 5,
   "id": "d93b2729",
   "metadata": {
    "scrolled": true
   },
   "outputs": [
    {
     "ename": "ArticleException",
     "evalue": "Article `download()` failed with 404 Client Error: Not Found for url: https://blockchain.news/404?q=ethereum?s-median-fees-drop-by-88.7-hitting-a-two-month-low on URL https://Blockchain.News/news/ethereum’s-median-fees-drop-by-88.7-hitting-a-two-month-low",
     "output_type": "error",
     "traceback": [
      "\u001b[1;31m---------------------------------------------------------------------------\u001b[0m",
      "\u001b[1;31mArticleException\u001b[0m                          Traceback (most recent call last)",
      "\u001b[1;32m<ipython-input-5-8c921cb000aa>\u001b[0m in \u001b[0;36m<module>\u001b[1;34m\u001b[0m\n\u001b[0;32m     39\u001b[0m                 \u001b[0marticle\u001b[0m \u001b[1;33m=\u001b[0m \u001b[0mArticle\u001b[0m\u001b[1;33m(\u001b[0m\u001b[0ma\u001b[0m\u001b[1;33m)\u001b[0m\u001b[1;33m\u001b[0m\u001b[1;33m\u001b[0m\u001b[0m\n\u001b[0;32m     40\u001b[0m                 \u001b[0marticle\u001b[0m\u001b[1;33m.\u001b[0m\u001b[0mdownload\u001b[0m\u001b[1;33m(\u001b[0m\u001b[1;33m)\u001b[0m\u001b[1;33m\u001b[0m\u001b[1;33m\u001b[0m\u001b[0m\n\u001b[1;32m---> 41\u001b[1;33m                 \u001b[0marticle\u001b[0m\u001b[1;33m.\u001b[0m\u001b[0mparse\u001b[0m\u001b[1;33m(\u001b[0m\u001b[1;33m)\u001b[0m\u001b[1;33m\u001b[0m\u001b[1;33m\u001b[0m\u001b[0m\n\u001b[0m\u001b[0;32m     42\u001b[0m                 \u001b[0marticle\u001b[0m\u001b[1;33m.\u001b[0m\u001b[0mnlp\u001b[0m\u001b[1;33m(\u001b[0m\u001b[1;33m)\u001b[0m\u001b[1;33m\u001b[0m\u001b[1;33m\u001b[0m\u001b[0m\n\u001b[0;32m     43\u001b[0m                 \u001b[0mnews_item\u001b[0m\u001b[1;33m[\u001b[0m\u001b[1;34m'Keyword'\u001b[0m\u001b[1;33m]\u001b[0m\u001b[1;33m=\u001b[0m\u001b[0marticle\u001b[0m\u001b[1;33m.\u001b[0m\u001b[0mkeywords\u001b[0m\u001b[1;33m\u001b[0m\u001b[1;33m\u001b[0m\u001b[0m\n",
      "\u001b[1;32mc:\\users\\nikhi\\appdata\\local\\programs\\python\\python39\\lib\\site-packages\\newspaper\\article.py\u001b[0m in \u001b[0;36mparse\u001b[1;34m(self)\u001b[0m\n\u001b[0;32m    189\u001b[0m \u001b[1;33m\u001b[0m\u001b[0m\n\u001b[0;32m    190\u001b[0m     \u001b[1;32mdef\u001b[0m \u001b[0mparse\u001b[0m\u001b[1;33m(\u001b[0m\u001b[0mself\u001b[0m\u001b[1;33m)\u001b[0m\u001b[1;33m:\u001b[0m\u001b[1;33m\u001b[0m\u001b[1;33m\u001b[0m\u001b[0m\n\u001b[1;32m--> 191\u001b[1;33m         \u001b[0mself\u001b[0m\u001b[1;33m.\u001b[0m\u001b[0mthrow_if_not_downloaded_verbose\u001b[0m\u001b[1;33m(\u001b[0m\u001b[1;33m)\u001b[0m\u001b[1;33m\u001b[0m\u001b[1;33m\u001b[0m\u001b[0m\n\u001b[0m\u001b[0;32m    192\u001b[0m \u001b[1;33m\u001b[0m\u001b[0m\n\u001b[0;32m    193\u001b[0m         \u001b[0mself\u001b[0m\u001b[1;33m.\u001b[0m\u001b[0mdoc\u001b[0m \u001b[1;33m=\u001b[0m \u001b[0mself\u001b[0m\u001b[1;33m.\u001b[0m\u001b[0mconfig\u001b[0m\u001b[1;33m.\u001b[0m\u001b[0mget_parser\u001b[0m\u001b[1;33m(\u001b[0m\u001b[1;33m)\u001b[0m\u001b[1;33m.\u001b[0m\u001b[0mfromstring\u001b[0m\u001b[1;33m(\u001b[0m\u001b[0mself\u001b[0m\u001b[1;33m.\u001b[0m\u001b[0mhtml\u001b[0m\u001b[1;33m)\u001b[0m\u001b[1;33m\u001b[0m\u001b[1;33m\u001b[0m\u001b[0m\n",
      "\u001b[1;32mc:\\users\\nikhi\\appdata\\local\\programs\\python\\python39\\lib\\site-packages\\newspaper\\article.py\u001b[0m in \u001b[0;36mthrow_if_not_downloaded_verbose\u001b[1;34m(self)\u001b[0m\n\u001b[0;32m    529\u001b[0m             \u001b[1;32mraise\u001b[0m \u001b[0mArticleException\u001b[0m\u001b[1;33m(\u001b[0m\u001b[1;34m'You must `download()` an article first!'\u001b[0m\u001b[1;33m)\u001b[0m\u001b[1;33m\u001b[0m\u001b[1;33m\u001b[0m\u001b[0m\n\u001b[0;32m    530\u001b[0m         \u001b[1;32melif\u001b[0m \u001b[0mself\u001b[0m\u001b[1;33m.\u001b[0m\u001b[0mdownload_state\u001b[0m \u001b[1;33m==\u001b[0m \u001b[0mArticleDownloadState\u001b[0m\u001b[1;33m.\u001b[0m\u001b[0mFAILED_RESPONSE\u001b[0m\u001b[1;33m:\u001b[0m\u001b[1;33m\u001b[0m\u001b[1;33m\u001b[0m\u001b[0m\n\u001b[1;32m--> 531\u001b[1;33m             raise ArticleException('Article `download()` failed with %s on URL %s' %\n\u001b[0m\u001b[0;32m    532\u001b[0m                   (self.download_exception_msg, self.url))\n\u001b[0;32m    533\u001b[0m \u001b[1;33m\u001b[0m\u001b[0m\n",
      "\u001b[1;31mArticleException\u001b[0m: Article `download()` failed with 404 Client Error: Not Found for url: https://blockchain.news/404?q=ethereum?s-median-fees-drop-by-88.7-hitting-a-two-month-low on URL https://Blockchain.News/news/ethereum’s-median-fees-drop-by-88.7-hitting-a-two-month-low"
     ]
    }
   ],
   "source": [
    "for u in url:\n",
    "        #Making Connection with mongodb\n",
    "        client = pym.MongoClient('mongodb://localhost:27017/')\n",
    "        #creating db\n",
    "        db = client[\"Rss_Feed\"]\n",
    "        #creating tables\n",
    "        rss_feeds_table = db[\"Rss_Feed_Info\"]\n",
    "\n",
    "\n",
    "        resp=requests.get(u)\n",
    "        #soup = bs(resp.text, 'html.parser')\n",
    "        soup=BeautifulSoup(resp.content,features='xml')\n",
    "        news = []\n",
    "        items=soup.findAll('item')\n",
    "        #nltk.download('punkt')\n",
    "        item = iter(items)\n",
    "        for item in items:\n",
    "            news_item={}\n",
    "\n",
    "            #Check if there is document with PubDate and Title specified\n",
    "            if db.Rss_Feed_Info.find_one({\"PubDate\":item.pubDate.text,\"Title\":item.title.text}):\n",
    "                #print(\"Data present\")\n",
    "                #If The document with specified PubDate and Title is present the news_item store null values\n",
    "                news_item['Title']=None\n",
    "                news_item['Link']=None\n",
    "                news_item['Description']=None\n",
    "                news_item['PubDate']=None\n",
    "                #news_item['Category']=item.category.text\n",
    "                news_item['Keyword']=None\n",
    "                #next(item)\n",
    "            else:  \n",
    "                #If The document with specified PubDate and Title is not present news_item stores the values\n",
    "                news_item['Title']=item.title.text\n",
    "                news_item['Link']=item.link.text\n",
    "                news_item['Description']=item.description.text\n",
    "                news_item['PubDate']=item.pubDate.text\n",
    "                #news_item['Category']=item.category.text\n",
    "                a = item.link.text\n",
    "                article = Article(a)\n",
    "                article.download()\n",
    "                article.parse() \n",
    "                article.nlp()\n",
    "                news_item['Keyword']=article.keywords\n",
    "            news.append(news_item)\n",
    "\n",
    "        df = pd.DataFrame(news)\n",
    "        #df.head(26)\n",
    "       \n",
    "        # Create Dict() to send to MongoDB\n",
    "        rss_feed_dict = df.to_dict('record')\n",
    "        rss_feeds_table.insert_many(rss_feed_dict)\n",
    "\n",
    "        #Removing Null Values\n",
    "        db.Rss_Feed_Info.delete_many({ \"Title\": None , \"Link\" : None , \"Description\": None, \"PubDate\": None})\n",
    "        #db.Rss_Feed_Info_keyword.find({},{\"PubDate\":-1}).sort(\"PubDate\",-1)"
   ]
  },
  {
   "cell_type": "code",
   "execution_count": null,
   "id": "6da8fcff",
   "metadata": {},
   "outputs": [],
   "source": []
  }
 ],
 "metadata": {
  "kernelspec": {
   "display_name": "Python 3",
   "language": "python",
   "name": "python3"
  },
  "language_info": {
   "codemirror_mode": {
    "name": "ipython",
    "version": 3
   },
   "file_extension": ".py",
   "mimetype": "text/x-python",
   "name": "python",
   "nbconvert_exporter": "python",
   "pygments_lexer": "ipython3",
   "version": "3.9.5"
  }
 },
 "nbformat": 4,
 "nbformat_minor": 5
}
