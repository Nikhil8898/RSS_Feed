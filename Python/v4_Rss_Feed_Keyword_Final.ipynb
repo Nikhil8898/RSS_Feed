{
 "cells": [
  {
   "cell_type": "code",
   "execution_count": 1,
   "id": "d8c26066",
   "metadata": {},
   "outputs": [],
   "source": [
    "import pymongo as pym\n",
    "import pandas as pd\n",
    "import requests\n",
    "import nltk\n",
    "from bs4 import BeautifulSoup\n",
    "#from bs4 import BeautifulSoup as bs\n",
    "import urllib.request, urllib.parse, urllib.error\n",
    "from newspaper import Article "
   ]
  },
  {
   "cell_type": "code",
   "execution_count": 2,
   "id": "02eeee8e",
   "metadata": {},
   "outputs": [],
   "source": [
    "#URL=[\"https://mystudentvoices.com/it-took-me-2-years-to-get-1000-followers-life-lessons-ive-learned-throughout-the-journey-9bc44f2959f0\"]\n",
    "URL=[\"https://www.coindesk.com/arc/outboundfeeds/rss/?outputType=xml\"]"
   ]
  },
  {
   "cell_type": "markdown",
   "id": "1a03e7d8",
   "metadata": {},
   "source": [
    "\"https://blockchain.news/RSS/\",\"https://news.bitcoin.com/feed/"
   ]
  },
  {
   "cell_type": "code",
   "execution_count": 7,
   "id": "27d8a34a",
   "metadata": {},
   "outputs": [
    {
     "data": {
      "text/plain": [
       "'print(news)\\nprint(news_item)'"
      ]
     },
     "execution_count": 7,
     "metadata": {},
     "output_type": "execute_result"
    }
   ],
   "source": [
    "x=range(3)\n",
    "for url in URL:\n",
    "    resp=requests.get(url)\n",
    "    #soup = bs(resp.text, 'html.parser')\n",
    "    soup=BeautifulSoup(resp.content,features='xml')\n",
    "    news = []\n",
    "    items=soup.findAll('item')\n",
    "    #nltk.download('punkt')\n",
    "    for item in items:\n",
    "        news_item={}\n",
    "        news_item['Title']=item.title.text\n",
    "        news_item['Link']=item.link.text\n",
    "        news_item['Description']=item.description.text\n",
    "        news_item['PubDate']=item.pubDate.text\n",
    "        #news_item['Category']=item.category.text\n",
    "        a = item.link.text\n",
    "        article = Article(a)\n",
    "        article.download()\n",
    "        article.parse() \n",
    "        article.nlp()\n",
    "        news_item['Keyword']=article.keywords\n",
    "        #print(item.title.text,\"\\n\",article.keywords)\n",
    "        #print(\"\\n\")\n",
    "        news.append(news_item)\n",
    "    \n",
    "    df = pd.DataFrame(news)\n",
    "#     df.head(26)\n",
    "    #Making Connection with mongodb\n",
    "    client = pym.MongoClient('mongodb://localhost:27017/')\n",
    "    #creating db\n",
    "    db = client[\"Rss_Feed\"]\n",
    "    #creating tables\n",
    "    rss_feeds_table = db[\"Rss_Feed_Info_keyword\"]\n",
    "#     # Create Dict() to send to MongoDB\n",
    "    rss_feed_dict = df.to_dict('record')\n",
    "    rss_feeds_table.insert_many(rss_feed_dict)\n",
    "    \n",
    "'''print(news)\n",
    "print(news_item)'''"
   ]
  },
  {
   "cell_type": "code",
   "execution_count": null,
   "id": "27532112",
   "metadata": {},
   "outputs": [],
   "source": []
  },
  {
   "cell_type": "code",
   "execution_count": null,
   "id": "6697361d",
   "metadata": {},
   "outputs": [],
   "source": []
  },
  {
   "cell_type": "code",
   "execution_count": null,
   "id": "09ff8cbd",
   "metadata": {},
   "outputs": [],
   "source": []
  },
  {
   "cell_type": "code",
   "execution_count": null,
   "id": "68b02aa7",
   "metadata": {},
   "outputs": [],
   "source": []
  },
  {
   "cell_type": "code",
   "execution_count": null,
   "id": "d0b2647b",
   "metadata": {},
   "outputs": [],
   "source": []
  },
  {
   "cell_type": "code",
   "execution_count": null,
   "id": "0bc9f9d5",
   "metadata": {},
   "outputs": [],
   "source": []
  },
  {
   "cell_type": "code",
   "execution_count": null,
   "id": "eb90a09f",
   "metadata": {},
   "outputs": [],
   "source": []
  }
 ],
 "metadata": {
  "kernelspec": {
   "display_name": "Python 3",
   "language": "python",
   "name": "python3"
  },
  "language_info": {
   "codemirror_mode": {
    "name": "ipython",
    "version": 3
   },
   "file_extension": ".py",
   "mimetype": "text/x-python",
   "name": "python",
   "nbconvert_exporter": "python",
   "pygments_lexer": "ipython3",
   "version": "3.9.5"
  }
 },
 "nbformat": 4,
 "nbformat_minor": 5
}
